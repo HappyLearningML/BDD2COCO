{
 "cells": [
  {
   "cell_type": "code",
   "execution_count": 48,
   "metadata": {},
   "outputs": [],
   "source": [
    "import os\n",
    "import json\n",
    "import argparse\n",
    "from tqdm import tqdm\n"
   ]
  },
  {
   "cell_type": "code",
   "execution_count": 49,
   "metadata": {},
   "outputs": [],
   "source": [
    "def parse_arguments():\n",
    "    parser = argparse.ArgumentParser(description='BDD100K to COCO format')\n",
    "    parser.add_argument(\n",
    "           \"-l\", \"--label_path\",\n",
    "           default=\"./data/bdd/labels\",\n",
    "           help=\"root directory of BDD label Json files\",\n",
    "    )\n",
    "    parser.add_argument(\n",
    "          \"-s\", \"--save_path\",\n",
    "          default=\"./convert_data/bdd2coco\",\n",
    "          help=\"path to save coco formatted label file\",\n",
    "    )\n",
    "    return parser.parse_args()\n"
   ]
  },
  {
   "cell_type": "code",
   "execution_count": 50,
   "metadata": {},
   "outputs": [],
   "source": [
    "def bdd2coco_detection(id_dict, labeled_images, fn):\n",
    "    images = list()\n",
    "    annotations = list()\n",
    "    \n",
    "    counter = 0\n",
    "    for i in tqdm(labeled_images):\n",
    "        counter += 1\n",
    "        image = dict()\n",
    "        image['file_name'] = i['name']\n",
    "        image['height'] = 720\n",
    "        image['width'] = 1280\n",
    "        \n",
    "        image['id'] = counter\n",
    "        \n",
    "        empty_image = True\n",
    "        \n",
    "        for l in i['labels']:\n",
    "            annotation = dict()\n",
    "            if l['category'] in id_dict.keys():\n",
    "                empty_image = False\n",
    "                annotation[\"iscrowd\"] = 0\n",
    "                annotation[\"image_id\"] = image['id']\n",
    "                x1 = l['box2d']['x1']\n",
    "                y1 = l['box2d']['y1']\n",
    "                x2 = l['box2d']['x2']\n",
    "                y2 = l['box2d']['y2']\n",
    "                annotation['bbox'] = [x1, y1, x2-x1,y2-y1]\n",
    "                annotation['area'] = float((x2-x1)*(y2-y1))\n",
    "                annotation['category_id'] = id_dict[l['category']]\n",
    "                annotation['ignore'] = 0\n",
    "                annotation['id'] = l['id']\n",
    "                annotation['segmentation'] = [[x1,y1,x1,y2,x2,y2,x2,y1]]\n",
    "                annotations.append(annotation)\n",
    "        if empty_image:\n",
    "            continue\n",
    "        \n",
    "        images.append(image)\n",
    "        \n",
    "    attr_dict[\"images\"] = images\n",
    "    attr_dict[\"annotations\"] = annotations\n",
    "    attr_dict[\"type\"] = \"instances\"\n",
    "    \n",
    "    print('saving...')\n",
    "    json_string = json.dumps(attr_dict)\n",
    "    with open(fn, \"w\") as file:\n",
    "        file.write(json_string)\n",
    "        \n",
    "\n",
    "            "
   ]
  },
  {
   "cell_type": "code",
   "execution_count": 57,
   "metadata": {},
   "outputs": [],
   "source": [
    "        \n",
    "if __name__ == '__main__':\n",
    "    #args = parse_arguments()\n",
    "    \n",
    "    label_dir = './data/bdd/labels'\n",
    "    save_path = './convert_data/bdd2coco'\n",
    "    \n",
    "    attr_dict = dict()\n",
    "    \n",
    "    attr_dict[\"categories\"] = [\n",
    "        {\"supercategory\":\"none\",\"id\":1,\"name\":\"person\"},\n",
    "        {\"supercategory\":\"none\",\"id\":2,\"name\":\"rider\"},\n",
    "        {\"supercategory\":\"none\",\"id\":3,\"name\":\"car\"},\n",
    "        {\"supercategory\":\"none\",\"id\":4,\"name\":\"bus\"},\n",
    "        {\"supercategory\":\"none\",\"id\":5,\"name\":\"truck\"},\n",
    "        {\"supercategory\":\"none\",\"id\":6,\"name\":\"bike\"},\n",
    "        {\"supercategory\":\"none\",\"id\":7,\"name\":\"motor\"},\n",
    "        {\"supercategory\":\"none\",\"id\":8,\"name\":\"traffic light\"},\n",
    "        {\"supercategory\":\"none\",\"id\":9,\"name\":\"traffic sign\"},\n",
    "        {\"supercategory\":\"none\",\"id\":10,\"name\":\"train\"},\n",
    "    ]\n",
    "    \n",
    "    attr_id_dict = {i['name']:i['id'] for i in attr_dict['categories']}\n",
    "        \n",
    "    \n",
    "        "
   ]
  },
  {
   "cell_type": "code",
   "execution_count": null,
   "metadata": {},
   "outputs": [],
   "source": [
    "        \n",
    "    \n",
    "    \n",
    "    \n",
    "   "
   ]
  },
  {
   "cell_type": "code",
   "execution_count": 58,
   "metadata": {},
   "outputs": [
    {
     "name": "stdout",
     "output_type": "stream",
     "text": [
      "Loading training set...\n"
     ]
    },
    {
     "name": "stderr",
     "output_type": "stream",
     "text": [
      "  3%|▎         | 2094/69863 [00:00<00:03, 20936.08it/s]"
     ]
    },
    {
     "name": "stdout",
     "output_type": "stream",
     "text": [
      "Converting training set...\n"
     ]
    },
    {
     "name": "stderr",
     "output_type": "stream",
     "text": [
      "100%|██████████| 69863/69863 [00:07<00:00, 9411.06it/s] \n"
     ]
    },
    {
     "name": "stdout",
     "output_type": "stream",
     "text": [
      "saving...\n"
     ]
    }
   ],
   "source": [
    "    # create BDD training set detections in COCO format\n",
    "    print('Loading training set...')\n",
    "    with open(os.path.join(label_dir,'bdd100k_labels_images_train.json')) as f:     \n",
    "        train_labels = json.load(f)\n",
    "    print('Converting training set...')\n",
    "    \n",
    "    out_fn = os.path.join(save_path,\n",
    "                         'bdd100k_labels_images_det_coco_train.json')\n",
    "    bdd2coco_detection(attr_id_dict, train_labels,out_fn)\n",
    "    \n",
    " \n",
    "    "
   ]
  },
  {
   "cell_type": "code",
   "execution_count": 59,
   "metadata": {},
   "outputs": [
    {
     "name": "stdout",
     "output_type": "stream",
     "text": [
      "Loading validation set...\n"
     ]
    },
    {
     "name": "stderr",
     "output_type": "stream",
     "text": [
      " 18%|█▊        | 1808/10000 [00:00<00:00, 18079.72it/s]"
     ]
    },
    {
     "name": "stdout",
     "output_type": "stream",
     "text": [
      "Converting validation set...\n"
     ]
    },
    {
     "name": "stderr",
     "output_type": "stream",
     "text": [
      "100%|██████████| 10000/10000 [00:00<00:00, 18674.80it/s]\n"
     ]
    },
    {
     "name": "stdout",
     "output_type": "stream",
     "text": [
      "saving...\n"
     ]
    }
   ],
   "source": [
    "    # create BDD validation set detection in COCO format\n",
    "    print('Loading validation set...')\n",
    "    with open(os.path.join(label_dir,'bdd100k_labels_images_val.json')) as f:\n",
    "        val_labels = json.load(f)\n",
    "    print('Converting validation set...')\n",
    "    \n",
    "    out_fn = os.path.join(save_path,\n",
    "                         'bdd100k_labels_images_det_coco_val.json')\n",
    "    bdd2coco_detection(attr_id_dict, val_labels, out_fn)"
   ]
  },
  {
   "cell_type": "code",
   "execution_count": null,
   "metadata": {},
   "outputs": [],
   "source": []
  },
  {
   "cell_type": "code",
   "execution_count": null,
   "metadata": {},
   "outputs": [],
   "source": []
  },
  {
   "cell_type": "code",
   "execution_count": null,
   "metadata": {},
   "outputs": [],
   "source": []
  },
  {
   "cell_type": "code",
   "execution_count": null,
   "metadata": {},
   "outputs": [],
   "source": []
  }
 ],
 "metadata": {
  "kernelspec": {
   "display_name": "Python 2",
   "language": "python",
   "name": "python2"
  },
  "language_info": {
   "codemirror_mode": {
    "name": "ipython",
    "version": 2
   },
   "file_extension": ".py",
   "mimetype": "text/x-python",
   "name": "python",
   "nbconvert_exporter": "python",
   "pygments_lexer": "ipython2",
   "version": "2.7.16"
  }
 },
 "nbformat": 4,
 "nbformat_minor": 2
}
